{
 "cells": [
  {
   "cell_type": "code",
   "execution_count": 1,
   "id": "24fc322d",
   "metadata": {},
   "outputs": [],
   "source": [
    "from letta_client import Letta\n",
    "from letta_client.types.child_tool_rule import ChildToolRule\n",
    "\n",
    "client = Letta(base_url=\"http://localhost:8283\")"
   ]
  },
  {
   "cell_type": "code",
   "execution_count": 2,
   "id": "142c32cd",
   "metadata": {},
   "outputs": [],
   "source": [
    "all_mcp = client.tools.list_mcp_servers()"
   ]
  },
  {
   "cell_type": "code",
   "execution_count": 3,
   "id": "2d4f5057",
   "metadata": {},
   "outputs": [],
   "source": [
    "mcp_server_name = \"toolbox\"\n",
    "mcp_tools = client.tools.list_mcp_tools_by_server(\n",
    "    mcp_server_name=mcp_server_name,\n",
    ")"
   ]
  },
  {
   "cell_type": "code",
   "execution_count": 4,
   "id": "9f29edd3",
   "metadata": {},
   "outputs": [],
   "source": [
    "tool_ids = []\n",
    "\n",
    "for tool in mcp_tools:\n",
    "    added = client.tools.add_mcp_tool(\n",
    "        mcp_server_name=mcp_server_name,\n",
    "        mcp_tool_name=tool.name\n",
    "    )\n",
    "    tool_ids.append(added.id)"
   ]
  },
  {
   "cell_type": "code",
   "execution_count": 5,
   "id": "bd18a436",
   "metadata": {},
   "outputs": [],
   "source": [
    "agent_state = client.agents.create(\n",
    "    name=\"universal_mcp_assistant\",\n",
    "    system=(\n",
    "        \"You are an assistant that can perform any day-to-day task by routing through MCP.\\n\"\n",
    "        \"Whenever the user asks for something (e.g., “get me the latest information on a certain topic”, “check for any important new emails”, \"\n",
    "        \"“find new job postings I am qualified for”), you should:\\n\"\n",
    "        \"  1. Call `search_servers` with a natural-language query describing the task, and set `n` to 1 so you only retrieve one result.\\n\"\n",
    "        \"     • For example: { \\\"name\\\": \\\"search_servers\\\", \\\"arguments\\\": { \\\"query\\\": \\\"Find MCP server for checking unread emails\\\", \\\"n\\\": 1 }}\\n\"\n",
    "        \"     • The single returned MCP’s qualifiedName will expose exactly the tool you need.\\n\"\n",
    "        \"  2. From that MCP’s qualifiedName, pick the exact sub-tool name (e.g., ‘check_email’) and call `use_tool` with:\\n\"\n",
    "        \"     {\\n\"\n",
    "        \"       \\\"qualifiedName\\\": <the server you got from search_servers>,\\n\"\n",
    "        \"       \\\"parameters\\\": {\\n\"\n",
    "        \"         \\\"name\\\": <the sub-tool to invoke>,\\n\"\n",
    "        \"         \\\"arguments\\\": { … }       # whatever arguments that sub-tool requires\\n\"\n",
    "        \"       }\\n\"\n",
    "        \"     }\\n\"\n",
    "        \"  3. If the `use_tool` call returns an error containing a `configUrl`, that means the MCP tool requires configuration.\\n\"\n",
    "        \"     • Prompt the user with a message like: “This tool needs to be configured before use. Please configure it here: <configUrl>.”\\n\"\n",
    "        \"     • Do not treat it as a failure—simply provide the link so the user can complete configuration.\\n\"\n",
    "        \"  4. Once the `use_tool` call succeeds, take the JSON result and use it to:\\n\"\n",
    "        \"     • Answer whatever the user originally asked, or\\n\"\n",
    "        \"     • Confirm that the requested action has been completed successfully.\\n\"\n",
    "        \"If you see any non-unicode characters when using a tool, please ignore them so that you don't crash on stdout.\"\n",
    "        \"Repeat this flow for every new user request.\"\n",
    "    ),\n",
    "    model=\"openai/gpt-4o\",\n",
    "    embedding=\"openai/text-embedding-3-small\",\n",
    "    tool_ids=tool_ids,\n",
    "    tool_rules=[\n",
    "        ChildToolRule(tool_name=\"use_tool\", children=[\"send_message\"]),\n",
    "    ]\n",
    ")"
   ]
  },
  {
   "cell_type": "code",
   "execution_count": 6,
   "id": "64022bea",
   "metadata": {},
   "outputs": [],
   "source": [
    "response = client.agents.messages.create(\n",
    "    agent_id=agent_state.id,\n",
    "    messages=[\n",
    "        {\n",
    "            \"role\": \"user\",\n",
    "            \"content\": \"Get me the weather in Atlanta.\"\n",
    "        },\n",
    "    ],\n",
    ")"
   ]
  },
  {
   "cell_type": "code",
   "execution_count": 7,
   "id": "e3e2c0c2",
   "metadata": {},
   "outputs": [
    {
     "name": "stdout",
     "output_type": "stream",
     "text": [
      "The weather in Atlanta is mainly clear with a temperature of 28.7°C. The relative humidity at 2 meters is 44%, and the dew point temperature at 2 meters is 15.3°C.\n"
     ]
    }
   ],
   "source": [
    "for msg in response.messages:\n",
    "    if msg.message_type == \"assistant_message\":\n",
    "        print(msg.content)"
   ]
  },
  {
   "cell_type": "code",
   "execution_count": 8,
   "id": "6facf5c4",
   "metadata": {},
   "outputs": [],
   "source": [
    "response = client.agents.messages.create(\n",
    "    agent_id=agent_state.id,\n",
    "    messages=[\n",
    "        {\n",
    "            \"role\": \"user\",\n",
    "            \"content\": \"Can you get me some nice youtube recommendations.\"\n",
    "        },\n",
    "    ],\n",
    ")"
   ]
  },
  {
   "cell_type": "code",
   "execution_count": 9,
   "id": "099078d4",
   "metadata": {},
   "outputs": [
    {
     "name": "stdout",
     "output_type": "stream",
     "text": [
      "This YouTube tool needs to be configured before use. Please configure it here: [YouTube MCP Server Configuration](https://smithery.ai/server/@coyaSONG/youtube-mcp-server/config).\n"
     ]
    }
   ],
   "source": [
    "for msg in response.messages:\n",
    "    if msg.message_type == \"assistant_message\":\n",
    "        print(msg.content)"
   ]
  }
 ],
 "metadata": {
  "kernelspec": {
   "display_name": "Python 3 (ipykernel)",
   "language": "python",
   "name": "python3"
  },
  "language_info": {
   "codemirror_mode": {
    "name": "ipython",
    "version": 3
   },
   "file_extension": ".py",
   "mimetype": "text/x-python",
   "name": "python",
   "nbconvert_exporter": "python",
   "pygments_lexer": "ipython3",
   "version": "3.11.5"
  }
 },
 "nbformat": 4,
 "nbformat_minor": 5
}
